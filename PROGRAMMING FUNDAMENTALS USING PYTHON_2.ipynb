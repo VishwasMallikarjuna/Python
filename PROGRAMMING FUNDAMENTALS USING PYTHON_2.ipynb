{
 "cells": [
  {
   "cell_type": "code",
   "execution_count": 1,
   "metadata": {},
   "outputs": [
    {
     "name": "stdout",
     "output_type": "stream",
     "text": [
      "30\n"
     ]
    }
   ],
   "source": [
    "# A function is a block of code that performs a particular task. In python, functions are declared using the keyword def.\n",
    "\n",
    "def calculate_sum(data1, data2):\n",
    "    #All the statements in the block of code must have the same level of indentation\n",
    "    result_sum=data1+data2\n",
    "    return result_sum\n",
    "\n",
    "result=calculate_sum(10,20)\n",
    "print(result)"
   ]
  },
  {
   "cell_type": "code",
   "execution_count": 5,
   "metadata": {},
   "outputs": [
    {
     "name": "stdout",
     "output_type": "stream",
     "text": [
      "Total Ticket Cost: 204910.35\n"
     ]
    }
   ],
   "source": [
    "\"\"\"The flight ticket rates for a round-trip (Mumbai->Dubai) were as follows:\n",
    "Rate per Adult: Rs. 37550.0\n",
    "Rate per Child: 1/3rd of the rate per adult\n",
    "Service Tax: 7% of the ticket amount (including all passengers)\n",
    "As it was a holiday season, the airline also offered 10% discount on the final ticket cost \n",
    "(after inclusion of the service tax).\n",
    "Find and display the total ticket cost for a group which had adults and children.\n",
    "\n",
    "Test the program with different input values for number of adults and children.\n",
    "\n",
    "Sample Input\tExpected Output\n",
    "Number of adults\tNumber of children\t\n",
    "5\t2\tTotal Ticket Cost: 204910.35\n",
    "3\t1\tTotal Ticket Cost: 120535.5\"\"\"\n",
    "\n",
    "def calculate_total_ticket_cost(no_of_adults, no_of_children):\n",
    "    total_ticket_cost=0\n",
    "    #Write your logic here\n",
    "    Rate_per_Adult= 37550.0\n",
    "    Service_Tax=0.07\n",
    "    Discount=0.1\n",
    "    Rate_per_Child= Rate_per_Adult/3\n",
    "    total_amount=(no_of_adults*Rate_per_Adult)+(no_of_children*Rate_per_Child)\n",
    "    total_amount_with_tax=total_amount+(total_amount*Service_Tax)\n",
    "    total_ticket_cost=total_amount_with_tax-(total_amount_with_tax*Discount)\n",
    "\n",
    "    return total_ticket_cost\n",
    "\n",
    "\n",
    "#Provide different values for no_of_adults, no_of_children and test your program\n",
    "total_ticket_cost=calculate_total_ticket_cost(5,2)\n",
    "print(\"Total Ticket Cost:\",total_ticket_cost)"
   ]
  },
  {
   "cell_type": "code",
   "execution_count": 6,
   "metadata": {},
   "outputs": [
    {
     "name": "stdout",
     "output_type": "stream",
     "text": [
      "Total Ticket Cost: 120535.5\n"
     ]
    }
   ],
   "source": [
    "total_ticket_cost=calculate_total_ticket_cost(3,1)\n",
    "print(\"Total Ticket Cost:\",total_ticket_cost)"
   ]
  },
  {
   "cell_type": "code",
   "execution_count": 7,
   "metadata": {},
   "outputs": [
    {
     "name": "stdout",
     "output_type": "stream",
     "text": [
      "Extra luggage charge is Rs. 600\n",
      "Please make the payment to clear check-in\n"
     ]
    }
   ],
   "source": [
    "#if else and elif\n",
    "\n",
    "ticket_status=\"Confirmed\"\n",
    "luggage_weight=32\n",
    "weight_limit=30  #Weight limit for the airline\n",
    "extra_luggage_charge=0\n",
    "if(ticket_status==\"Confirmed\"):\n",
    "    if(luggage_weight>0 and luggage_weight<=weight_limit):\n",
    "        print(\"Check-in cleared\")\n",
    "    elif(luggage_weight<=(weight_limit+10)):\n",
    "        extra_luggage_charge=300*(luggage_weight-weight_limit)\n",
    "    else:\n",
    "        extra_luggage_charge=500*(luggage_weight-weight_limit)\n",
    "    if(extra_luggage_charge>0):\n",
    "        print(\"Extra luggage charge is Rs.\", extra_luggage_charge)\n",
    "        print(\"Please make the payment to clear check-in\")\n",
    "else:\n",
    "    print(\"Sorry, ticket is not confirmed\")"
   ]
  },
  {
   "cell_type": "code",
   "execution_count": 8,
   "metadata": {},
   "outputs": [
    {
     "name": "stdout",
     "output_type": "stream",
     "text": [
      "Airport security cleared\n"
     ]
    }
   ],
   "source": [
    "passenger_name=\"Chan\"\n",
    "passport_status=\"valid\"\n",
    "if(passport_status==\"valid\"):\n",
    "    print(\"Airport security cleared\")\n",
    "else:\n",
    "    print(\"Invalid passport\")"
   ]
  },
  {
   "cell_type": "code",
   "execution_count": 16,
   "metadata": {},
   "outputs": [
    {
     "name": "stdout",
     "output_type": "stream",
     "text": [
      "Zap\n",
      "Zip\n",
      "Zoom\n"
     ]
    }
   ],
   "source": [
    "\"\"\"Write a python program that displays a message as follows for a given number:\n",
    "\n",
    "If it is a multiple of three, display \"Zip\"\n",
    "If it is a multiple of five, display \"Zap\".\n",
    "If it is a multiple of both three and five, display \"Zoom\".\n",
    "If it does not satisfy any of the above given conditions, display \"Invalid\".\"\"\"\n",
    "\n",
    "def display(num):\n",
    "    message=\"Invalid\"\n",
    "    #write your logic here\n",
    "    if(num%3==0):\n",
    "        message=\"Zip\"\n",
    "    if(num%5==0):\n",
    "        message=\"Zap\"\n",
    "    if(num%3==0 and num%5==0):\n",
    "        message=\"Zoom\"\n",
    "    return message\n",
    "\n",
    "#Provide different values for num and test your program\n",
    "message=display(10)\n",
    "print(message)\n",
    "message=display(9)\n",
    "print(message)\n",
    "message=display(15)\n",
    "print(message)"
   ]
  },
  {
   "cell_type": "code",
   "execution_count": 20,
   "metadata": {},
   "outputs": [
    {
     "name": "stdout",
     "output_type": "stream",
     "text": [
      "15\n",
      "8\n",
      "12\n",
      "-1\n"
     ]
    }
   ],
   "source": [
    "\"\"\"Write a python program to find and display the product of three positive integer values based on the rule mentioned \n",
    "below:\n",
    "\n",
    "It should display the product of the three values except when one of the integer value is 7. In that case, 7 should not be \n",
    "included in the product and the values to its left also should not be included.\n",
    "If there is only one value to be considered, display that value itself. If no values can be included in the product, \n",
    "display -1.\n",
    "\n",
    "Note:Assume that if 7 is one of the positive integer values, then it will occur only once. Refer the sample I/O given below.\n",
    "\n",
    "\n",
    "Sample Input\tExpected Output\n",
    "1, 5, 3 \t15\n",
    "3, 7, 8 \t8\n",
    "7, 4, 3 \t12\n",
    "1, 5, 7 \t-1\"\"\"\n",
    "\n",
    "def product_of_three_integer(int_1,int_2,int_3):\n",
    "    if(int_1==7):\n",
    "        return int_2*int_3\n",
    "    elif(int_2==7):\n",
    "        return int_3\n",
    "    elif(int_3==7):\n",
    "        return -1\n",
    "    else:\n",
    "        return int_1*int_2*int_3\n",
    "    \n",
    "print(product_of_three_integer(1, 5, 3))\n",
    "print(product_of_three_integer(3, 7, 8))\n",
    "print(product_of_three_integer(7, 4, 3))\n",
    "print(product_of_three_integer(1, 5, 7))"
   ]
  }
 ],
 "metadata": {
  "kernelspec": {
   "display_name": "Python 3",
   "language": "python",
   "name": "python3"
  },
  "language_info": {
   "codemirror_mode": {
    "name": "ipython",
    "version": 3
   },
   "file_extension": ".py",
   "mimetype": "text/x-python",
   "name": "python",
   "nbconvert_exporter": "python",
   "pygments_lexer": "ipython3",
   "version": "3.6.5"
  }
 },
 "nbformat": 4,
 "nbformat_minor": 2
}
