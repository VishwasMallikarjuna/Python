{
 "cells": [
  {
   "cell_type": "code",
   "execution_count": 1,
   "metadata": {},
   "outputs": [
    {
     "name": "stdout",
     "output_type": "stream",
     "text": [
      "Check-in cleared\n"
     ]
    }
   ],
   "source": [
    "# Arithmetic operators: Used for performing arithmetic operations\n",
    "# Operators\tDescription\n",
    "# +\tAddition\n",
    "# -\tSubtraction\n",
    "# *\tMultiplication\n",
    "# /\tDivision\n",
    "# %\tModulus\n",
    "\n",
    "# Relational operators: Also known as comparison operators, are used to compare values. Result of a relational expression is always either true or false.\n",
    "# Operators\tDescription\n",
    "# ==\tEqual to\n",
    "# <\tLess than\n",
    "# >\tGreater than\n",
    "# <=\tLess than or equal to\n",
    "# >=\tGreater than or equal to\n",
    "# !=\tNot equal to\n",
    "\n",
    "#     A\tB\t   A AND B\n",
    "# True\tTrue\tTrue\n",
    "# True\tFalse\tFalse\n",
    "# False\tTrue\tFalse\n",
    "# False\tFalse\tFalse\n",
    "#     A\tB\t   A OR B\n",
    "# True\tTrue\tTrue\n",
    "# True\tFalse\tTrue\n",
    "# False\tTrue\tTrue\n",
    "# False\tFalse\tFalse\n",
    "# A\tNOT A\n",
    "# True\tFalse\n",
    "# False\tTrue\n",
    "\n",
    "#Use of if else loop\n",
    "airline=\"AirIndia\"\n",
    "luggage_weight=28\n",
    "AI_weight_limit=30\n",
    "EM_weight_limit=35\n",
    "if(airline==\"AirIndia\"):\n",
    "    if(luggage_weight<=AI_weight_limit):\n",
    "        print(\"Check-in cleared\")\n",
    "    else:\n",
    "        print(\"Remove some luggage and come back\")\n",
    "elif(airline==\"Emirates\"):\n",
    "    if(luggage_weight<=EM_weight_limit):\n",
    "        print(\"Check in cleared\")\n",
    "    else:\n",
    "        print(\"Remove some luggage and come back\")\n",
    "else:\n",
    "    print(\"Invalid airline\")"
   ]
  },
  {
   "cell_type": "code",
   "execution_count": 2,
   "metadata": {},
   "outputs": [
    {
     "name": "stdout",
     "output_type": "stream",
     "text": [
      "Ticket Numbers for all the Passengers:\n",
      "T - 1001\n",
      "T - 1002\n",
      "T - 1003\n"
     ]
    }
   ],
   "source": [
    "# Use of while loop\n",
    "no_of_passengers=3\n",
    "ticket_number=1001\n",
    "print(\"Ticket Numbers for all the Passengers:\")\n",
    "while(no_of_passengers>0):\n",
    "    print(\"T -\",ticket_number)\n",
    "    ticket_number=ticket_number+1\n",
    "    no_of_passengers=no_of_passengers-1"
   ]
  },
  {
   "cell_type": "code",
   "execution_count": 3,
   "metadata": {},
   "outputs": [
    {
     "name": "stdout",
     "output_type": "stream",
     "text": [
      "Number of landings: 356\n",
      "Number of takeoffs: 245\n"
     ]
    }
   ],
   "source": [
    "#Let’s have a look at the python program to display the number of landings and number of takeoffs in an airport:\n",
    "#print\n",
    "no_of_landings=356\n",
    "no_of_takeoffs=245\n",
    "print(\"Number of landings:\",no_of_landings)\n",
    "print(\"Number of takeoffs:\",no_of_takeoffs)"
   ]
  },
  {
   "cell_type": "code",
   "execution_count": 1,
   "metadata": {},
   "outputs": [],
   "source": [
    "# The below program will draw a circle and a rectangle. Run and observe the result.\n",
    "# Change the radius of the circle and the width, height of the rectangle using the given controls \n",
    "# and run to observe the changes.\n",
    "\n",
    "# Your objective is to create and submit the canvas where radius of circle is 60, width of rectangle \n",
    "# is 4 times the radius and height of the rectangle is 1 / 2 of radius.\n",
    "\n",
    "import turtle                 # allows us to use the turtles library\n",
    "\n",
    "wn = turtle.Screen()     # creates a graphics window\n",
    "wn.setup(500,440)      # set window dimension\n",
    "\n",
    "circle_rad=50              # set the radius\n",
    "rectangle_width=150   # set the width\n",
    "rectangle_height=80   # set the height\n",
    "\n",
    "alex = turtle.Turtle()   # create a turtle named alex\n",
    "#alex.shape(\"turtle\")    # alex looks like a turtle\n",
    "alex.color('red')         # alex has a color\n",
    "alex.circle(circle_rad)\n",
    "alex.backward(rectangle_width/2)\n",
    "alex.forward(rectangle_width)\n",
    "alex.right(90)\n",
    "alex.forward(rectangle_height)\n",
    "alex.right(90)\n",
    "alex.forward(rectangle_width)\n",
    "alex.right(90)\n",
    "alex.forward(rectangle_height)"
   ]
  },
  {
   "cell_type": "code",
   "execution_count": 2,
   "metadata": {},
   "outputs": [
    {
     "name": "stdout",
     "output_type": "stream",
     "text": [
      "4.0\n"
     ]
    }
   ],
   "source": [
    "# Common Operators\tPython\n",
    "# Arithmetic Operators\t+,-,*,/, %,//\n",
    "# Relational Operators\t==,!=,>,<,>=,<=\n",
    "# Assignment Operators\t=,+=,-=,*=,/=,%=\n",
    "# Logical Operators\tand,or,not\n",
    "\n",
    "# In Python, // indicates integer division.Example: 11//2=5\n",
    "\n",
    "# the output of 5+4*9%(3+1)/6-1\n",
    "\n",
    "# It is done based on the precedence of the operator. Precedence of an operator can be identified based on the rule - BODMAS.\n",
    "# Brackets followed by Orders (Powers, Roots),\n",
    "# followed by modulo, Division and Multiplication, followed by Addition and Subtraction.\n",
    "\n",
    "# Brackets have the highest precedence followed by orders.\n",
    "# Modulo, Division and Multiplication have the same precedence. Hence if all appears in an expression, \n",
    "# it is evaluated from Left to Right.\n",
    "# Addition and Subtraction have the same precedence. Hence if both appears in an expression, \n",
    "# it is evaluated from Left to Right.\n",
    "\n",
    "result= 5+4*9%(3+1)/6-1\n",
    "print(result)"
   ]
  },
  {
   "cell_type": "code",
   "execution_count": 3,
   "metadata": {},
   "outputs": [
    {
     "name": "stdout",
     "output_type": "stream",
     "text": [
      "200\n"
     ]
    }
   ],
   "source": [
    "a=356\n",
    "b=245\n",
    "c=89\n",
    "d=a+c-b\n",
    "print(d)"
   ]
  },
  {
   "cell_type": "code",
   "execution_count": 4,
   "metadata": {},
   "outputs": [
    {
     "name": "stdout",
     "output_type": "stream",
     "text": [
      "Current number of flights: 200\n"
     ]
    }
   ],
   "source": [
    "'''This is a program to find the\n",
    "current number of flights in an airport'''\n",
    "landings_count=356\n",
    "takeoffs_count=245\n",
    "initial_flights=89\n",
    "current_flights = initial_flights + landings_count - takeoffs_count\n",
    "#Displaying the current number of flights\n",
    "print(\"Current number of flights:\",current_flights)"
   ]
  },
  {
   "cell_type": "code",
   "execution_count": 5,
   "metadata": {},
   "outputs": [
    {
     "name": "stdout",
     "output_type": "stream",
     "text": [
      "Let's see some examples.\n",
      "\n",
      "Did you notice the empty lines?\n",
      "Do you notice\t the tab space?\n",
      "Did you see that I have moved to next line?\n",
      "Do you want a \" in your text?\n",
      "Are you going to store more info about escape sequence in Z:\\\\user\\escape_sequence.txt??\n",
      "Did you see I start here and I end in the same line although from a different print?\n",
      "As observed escape sequences help you to format your output.\n"
     ]
    }
   ],
   "source": [
    "# Escape sequence is a sequence of characters that have special meaning when enclosed in a string.\n",
    "# It always begins with a backslash(\\).\n",
    "\n",
    "print(\"Let's see some examples.\\n\\nDid you notice the empty lines?\")\n",
    "print(\"Do you notice\\t the tab space?\\nDid you see that I have moved to next line?\")\n",
    "print(\"Do you want a \\\" in your text?\")\n",
    "print(\"Are you going to store more info about escape sequence in Z:\\\\\\\\user\\\\escape_sequence.txt??\")\n",
    "#Every print starts with a new line, end can change that behavior by specifying your own character\n",
    "print(\"Did you see I start here\", end=\" \")\n",
    "print(\"and I end in the same line although from a different print?\")\n",
    "print(\"As observed escape sequences help you to format your output.\")\n"
   ]
  },
  {
   "cell_type": "code",
   "execution_count": 11,
   "metadata": {},
   "outputs": [
    {
     "name": "stdout",
     "output_type": "stream",
     "text": [
      "________________________________________________________________________\n",
      "                            BREAD BASKET                                \n",
      "     \"Looking for a healthy breakfast, this is the place for you!!\"     \n",
      "________________________________________________________________________\n",
      "Raisin Toast                                                     $2.50\n",
      "French Toast                                                     $2.80\n",
      "Mushroom Toast                                                   $3.00\n",
      "Pancake                                                          $4.00\n",
      "Pancake with Ice-cream                                           $7.50\n",
      "Chef's speciality                                                $10.00\n",
      "________________________________________________________________________\n"
     ]
    }
   ],
   "source": [
    "print(\"________________________________________________________________________\")\n",
    "print(\"                            BREAD BASKET                                \")\n",
    "print('     \"Looking for a healthy breakfast, this is the place for you!!\"     ')\n",
    "print(\"________________________________________________________________________\")\n",
    "print(\"Raisin Toast                                                     $2.50\")\n",
    "print(\"French Toast                                                     $2.80\")\n",
    "print(\"Mushroom Toast                                                   $3.00\")\n",
    "print(\"Pancake                                                          $4.00\")\n",
    "print(\"Pancake with Ice-cream                                           $7.50\")\n",
    "print(\"Chef's speciality                                                $10.00\")\n",
    "print(\"________________________________________________________________________\")"
   ]
  },
  {
   "cell_type": "code",
   "execution_count": 17,
   "metadata": {},
   "outputs": [
    {
     "name": "stdout",
     "output_type": "stream",
     "text": [
      "num1 = 10\n",
      "num2 = 10\n"
     ]
    }
   ],
   "source": [
    "# Conversion\tPython\n",
    "# Conversion to int\tint()\n",
    "\n",
    "# Example:\n",
    "num1=int('10')\n",
    "print('num1 =',num1)\n",
    "# Value of num will be 10\tNumber()\n",
    "\n",
    "# Example:\n",
    "num2=str(10)\n",
    "print('num2 =',num2)\n",
    "# Value of num will be “10”"
   ]
  },
  {
   "cell_type": "code",
   "execution_count": 21,
   "metadata": {},
   "outputs": [
    {
     "name": "stdout",
     "output_type": "stream",
     "text": [
      "radius:6\n",
      "area: 113.03999999999999\n"
     ]
    }
   ],
   "source": [
    "# Write a python program to find and display the area of a circle. Use the formula given for finding the area of circle.\n",
    "# area=3.14*radius*radius\n",
    "\n",
    "radius=float(input(\"radius:\"))\n",
    "#radius=int(input(\"radius:\"))\n",
    "area=3.14*radius*radius\n",
    "print(\"area:\",area)"
   ]
  },
  {
   "cell_type": "code",
   "execution_count": 24,
   "metadata": {},
   "outputs": [
    {
     "name": "stdout",
     "output_type": "stream",
     "text": [
      "260.0\n",
      "True\n"
     ]
    }
   ],
   "source": [
    "\"\"\"Jack and his three friends have decided to go for a trip by sharing the expenses of the fuel equally.\n",
    "\n",
    "Write a Python program to calculate the amount (in Rs) each of them need to put in for the complete (both to and fro) \n",
    "journey.\n",
    "The program should also display True, if the amount to be paid by each person is divisible by 5, otherwise it should display\n",
    "False. (Hint: Use the relational operators in print statement.)\n",
    "\n",
    "Assume that mileage of the vehicle, amount per litre of fuel and distance for one way are given.\n",
    "\n",
    "Test your code by using the given sample inputs.\n",
    "Verify your code by using the 2nd sample input(highlighted) given below:\n",
    "\n",
    "Sample Input \tExpected Output\n",
    "Mileage of the vehicle (km/litre of fuel)\tAmount per litre of fuel (Rs)\tDistance for one way (kms)\t\n",
    "12\t65\t96\t260.0\n",
    "           True\n",
    "12\t40\t190\"\"\"\n",
    "\n",
    "# mileage=12\n",
    "# amount_per_litre=72\n",
    "# distance_one_way=102\n",
    "# per_head_cost=0\n",
    "# divisible_by_five=False\n",
    "\n",
    "mileage=12\n",
    "amount_per_litre=65\n",
    "distance_one_way=96\n",
    "per_head_cost=0\n",
    "divisible_by_five=False\n",
    "\n",
    "#Start writing your code from here\n",
    "#Populate the variables: per_head_cost and divisible_by_five\n",
    "total_two_side_distance=(distance_one_way*2)/mileage\n",
    "total_amount=total_two_side_distance*amount_per_litre\n",
    "per_head_cost=total_amount/4\n",
    "if per_head_cost%5==0:\n",
    "    divisible_by_five=True\n",
    "\n",
    "#Do not modify the below print statements for verification to work\n",
    "print(per_head_cost)\n",
    "print(divisible_by_five)"
   ]
  },
  {
   "cell_type": "code",
   "execution_count": 27,
   "metadata": {},
   "outputs": [
    {
     "name": "stdout",
     "output_type": "stream",
     "text": [
      "15615.6\n"
     ]
    }
   ],
   "source": [
    "\"\"\"Write a Python program to calculate and display the interest on a loan amount (Rupees) using the formula:\n",
    "interest=(principal * rate of interest * time)/100\n",
    "\n",
    "Test your code by using the given sample inputs.\n",
    "Verify your code by using the 2nd sample input(highlighted) given below:\n",
    "\n",
    "Sample Input\tExpected Output\n",
    "Principal\tRate of Interest\tTime\t\n",
    "20000\t5\t10\t10000.0\n",
    "7800\t7.7\t26\"\"\"\n",
    "\n",
    "# principal=2000\n",
    "# rate_of_interest=5\n",
    "# time=10\n",
    "# interest=0\n",
    "\n",
    "principal=7800\n",
    "rate_of_interest=7.7\n",
    "time=26\n",
    "interest=0\n",
    "\n",
    "#Start writing your code from here\n",
    "#Populate the variable: interest\n",
    "\n",
    "interest=(principal * rate_of_interest * time)/100\n",
    "\n",
    "#Do not modify the below print statement for verification to work\n",
    "print(interest)"
   ]
  }
 ],
 "metadata": {
  "kernelspec": {
   "display_name": "Python 3",
   "language": "python",
   "name": "python3"
  },
  "language_info": {
   "codemirror_mode": {
    "name": "ipython",
    "version": 3
   },
   "file_extension": ".py",
   "mimetype": "text/x-python",
   "name": "python",
   "nbconvert_exporter": "python",
   "pygments_lexer": "ipython3",
   "version": "3.6.5"
  }
 },
 "nbformat": 4,
 "nbformat_minor": 2
}
