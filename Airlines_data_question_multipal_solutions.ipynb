{
 "cells": [
  {
   "cell_type": "code",
   "execution_count": 100,
   "metadata": {},
   "outputs": [
    {
     "name": "stdout",
     "output_type": "stream",
     "text": [
      "List of unique airport names and number of times it is repeated in a json format:\n",
      " {\n",
      "\"Atlanta, GA: Hartsfield-Jackson Atlanta International\": 154,\n",
      "\"Boston, MA: Logan International\": 150,\n",
      "\"Baltimore, MD: Baltimore/Washington International Thurgood Marshall\": 150,\n",
      "\"Charlotte, NC: Charlotte Douglas International\": 150,\n",
      "\"Washington, DC: Ronald Reagan Washington National\": 150,\n",
      "\"Denver, CO: Denver International\": 150,\n",
      "\"Dallas/Fort Worth, TX: Dallas/Fort Worth International\": 150,\n",
      "\"Detroit, MI: Detroit Metro Wayne County\": 150,\n",
      "\"Newark, NJ: Newark Liberty International\": 150,\n",
      "\"Fort Lauderdale, FL: Fort Lauderdale-Hollywood International\": 150,\n",
      "\"Washington, DC: Washington Dulles International\": 150,\n",
      "\"Houston, TX: George Bush Intercontinental/Houston\": 150,\n",
      "\"New York, NY: John F. Kennedy International\": 150,\n",
      "\"Las Vegas, NV: McCarran International\": 150,\n",
      "\"Los Angeles, CA: Los Angeles International\": 150,\n",
      "\"New York, NY: LaGuardia\": 150,\n",
      "\"Orlando, FL: Orlando International\": 150,\n",
      "\"Chicago, IL: Chicago Midway International\": 150,\n",
      "\"Miami, FL: Miami International\": 150,\n",
      "\"Minneapolis, MN: Minneapolis-St Paul International\": 150,\n",
      "\"Chicago, IL: Chicago O'Hare International\": 150,\n",
      "\"Portland, OR: Portland International\": 149,\n",
      "\"Philadelphia, PA: Philadelphia International\": 149,\n",
      "\"Phoenix, AZ: Phoenix Sky Harbor International\": 137,\n",
      "\"San Diego, CA: San Diego International\": 149,\n",
      "\"Seattle, WA: Seattle/Tacoma International\": 149,\n",
      "\"San Francisco, CA: San Francisco International\": 149,\n",
      "\"Salt Lake City, UT: Salt Lake City International\": 149,\n",
      "\"Tampa, FL: Tampa International\": 149\n",
      "}\n",
      "Airport is mentioned highest number of times is Atlanta, GA: Hartsfield-Jackson Atlanta International and its count is 154\n",
      "Airport is mentioned lowest number of times is Phoenix, AZ: Phoenix Sky Harbor International and its count is 137\n"
     ]
    }
   ],
   "source": [
    "import pandas as pd\n",
    "import json   \n",
    "\n",
    "data = pd.read_csv (r'airlines.csv') \n",
    "Airport_name_list=data[\"Airport.Name\"].tolist()\n",
    "all_Dict={}\n",
    "for i in Airport_name_list:\n",
    "    if i not in all_Dict:\n",
    "        all_Dict[i]=1\n",
    "    else:\n",
    "        all_Dict[i]+=1\n",
    "        \n",
    "maxRepeatedAirpotr = max(all_Dict, key=all_Dict.get) \n",
    "minRepeatedAirpotr = min(all_Dict, key=all_Dict.get) \n",
    "json_object = json.dumps(all_Dict, indent = 0)  \n",
    "\n",
    "print(\"List of unique airport names and number of times it is repeated in a json format:\\n\",json_object)\n",
    "print(\"Airport is mentioned highest number of times is\",maxRepeatedAirpotr,\"and its count is\",all_Dict[maxRepeatedAirpotr]) \n",
    "print(\"Airport is mentioned lowest number of times is\",minRepeatedAirpotr,\"and its count is\",all_Dict[minRepeatedAirpotr])\n"
   ]
  },
  {
   "cell_type": "code",
   "execution_count": 101,
   "metadata": {},
   "outputs": [
    {
     "name": "stdout",
     "output_type": "stream",
     "text": [
      "List of unique airport names and number of times it is repeated in a json format:\n",
      " {\n",
      "\"Atlanta, GA: Hartsfield-Jackson Atlanta International\": 154,\n",
      "\"Boston, MA: Logan International\": 150,\n",
      "\"Baltimore, MD: Baltimore/Washington International Thurgood Marshall\": 150,\n",
      "\"Charlotte, NC: Charlotte Douglas International\": 150,\n",
      "\"Washington, DC: Ronald Reagan Washington National\": 150,\n",
      "\"Denver, CO: Denver International\": 150,\n",
      "\"Dallas/Fort Worth, TX: Dallas/Fort Worth International\": 150,\n",
      "\"Detroit, MI: Detroit Metro Wayne County\": 150,\n",
      "\"Newark, NJ: Newark Liberty International\": 150,\n",
      "\"Fort Lauderdale, FL: Fort Lauderdale-Hollywood International\": 150,\n",
      "\"Washington, DC: Washington Dulles International\": 150,\n",
      "\"Houston, TX: George Bush Intercontinental/Houston\": 150,\n",
      "\"New York, NY: John F. Kennedy International\": 150,\n",
      "\"Las Vegas, NV: McCarran International\": 150,\n",
      "\"Los Angeles, CA: Los Angeles International\": 150,\n",
      "\"New York, NY: LaGuardia\": 150,\n",
      "\"Orlando, FL: Orlando International\": 150,\n",
      "\"Chicago, IL: Chicago Midway International\": 150,\n",
      "\"Miami, FL: Miami International\": 150,\n",
      "\"Minneapolis, MN: Minneapolis-St Paul International\": 150,\n",
      "\"Chicago, IL: Chicago O'Hare International\": 150,\n",
      "\"Portland, OR: Portland International\": 149,\n",
      "\"Philadelphia, PA: Philadelphia International\": 149,\n",
      "\"Phoenix, AZ: Phoenix Sky Harbor International\": 137,\n",
      "\"San Diego, CA: San Diego International\": 149,\n",
      "\"Seattle, WA: Seattle/Tacoma International\": 149,\n",
      "\"San Francisco, CA: San Francisco International\": 149,\n",
      "\"Salt Lake City, UT: Salt Lake City International\": 149,\n",
      "\"Tampa, FL: Tampa International\": 149\n",
      "}\n",
      "Airport is mentioned highest number of times is Atlanta, GA: Hartsfield-Jackson Atlanta International and its count is 154\n",
      "Airport is mentioned lowest number of times is Phoenix, AZ: Phoenix Sky Harbor International and its count is 137\n"
     ]
    }
   ],
   "source": [
    "import re\n",
    "\n",
    "f=open(\"airlines.csv\",\"r\")\n",
    "#print(f)\n",
    "li=[]\n",
    "for i in f:\n",
    "    #print(i)\n",
    "    x= re.split('\"',i)\n",
    "    x.append(\"abc\")\n",
    "    li.append(x[1])\n",
    "li.remove(\"abc\")\n",
    "#print(li)\n",
    "\n",
    "all_Dict={}\n",
    "for j in li:\n",
    "    if j not in all_Dict:\n",
    "        all_Dict[j]=1\n",
    "    else:\n",
    "        all_Dict[j]+=1\n",
    "        \n",
    "maxRepeatedAirpotr = max(all_Dict, key=all_Dict.get) \n",
    "minRepeatedAirpotr = min(all_Dict, key=all_Dict.get) \n",
    "json_object = json.dumps(all_Dict, indent = 0)\n",
    "\n",
    "print(\"List of unique airport names and number of times it is repeated in a json format:\\n\",json_object)\n",
    "print(\"Airport is mentioned highest number of times is\",maxRepeatedAirpotr,\"and its count is\",all_Dict[maxRepeatedAirpotr]) \n",
    "print(\"Airport is mentioned lowest number of times is\",minRepeatedAirpotr,\"and its count is\",all_Dict[minRepeatedAirpotr])"
   ]
  },
  {
   "cell_type": "code",
   "execution_count": null,
   "metadata": {},
   "outputs": [],
   "source": []
  }
 ],
 "metadata": {
  "kernelspec": {
   "display_name": "Python 3",
   "language": "python",
   "name": "python3"
  },
  "language_info": {
   "codemirror_mode": {
    "name": "ipython",
    "version": 3
   },
   "file_extension": ".py",
   "mimetype": "text/x-python",
   "name": "python",
   "nbconvert_exporter": "python",
   "pygments_lexer": "ipython3",
   "version": "3.6.5"
  }
 },
 "nbformat": 4,
 "nbformat_minor": 2
}
